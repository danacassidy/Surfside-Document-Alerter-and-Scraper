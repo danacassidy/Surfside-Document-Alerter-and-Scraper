{
 "cells": [
  {
   "cell_type": "markdown",
   "metadata": {},
   "source": [
    "## Making an alert system for new documents posted to the City of Surfside's website about the Champlain Tower collapse and checking to see if previous documents were removed."
   ]
  },
  {
   "cell_type": "markdown",
   "metadata": {},
   "source": [
    "I built this script in light of the tragic building collapse that occurred in Surfside, FL. The purpose of this script is to see if the city of Surfside uploaded (or took down) any public record documents about Champlain Towers. The script sends an email alert to anyone I input letting them know when a change on the website occurs. The script also scrapes a list of document names and download links whenever there is a change on the website, as sometimes public officials quietly remove documents for no directly spoken reason. These documents are all public record and this code contributes to the reporting done by the Miami Herald on this matter."
   ]
  },
  {
   "cell_type": "code",
   "execution_count": 7,
   "metadata": {},
   "outputs": [],
   "source": [
    "import bs4\n",
    "from bs4 import BeautifulSoup\n",
    "import re\n",
    "import time\n",
    "import csv\n",
    "import requests\n",
    "import pandas as pd"
   ]
  },
  {
   "cell_type": "code",
   "execution_count": 8,
   "metadata": {},
   "outputs": [],
   "source": [
    "import requests\n",
    "import bs4"
   ]
  },
  {
   "cell_type": "code",
   "execution_count": null,
   "metadata": {},
   "outputs": [],
   "source": [
    "import requests\n",
    "import time\n",
    "import smtplib\n",
    "from email.message import EmailMessage\n",
    "import hashlib\n",
    "from urllib.request import urlopen\n",
    "\n",
    "\n",
    "url = 'https://www.townofsurfsidefl.gov/departments-services/town-clerk/champlain-towers-public-records-documents'\n",
    "response = urlopen(url).read()\n",
    "currentHash = hashlib.sha224(response).hexdigest()\n",
    "\n",
    "while True:\n",
    "\n",
    "    try:\n",
    "\n",
    "        response = urlopen(url).read()\n",
    "        currentHash = hashlib.sha224(response).hexdigest()\n",
    "        time.sleep(240)\n",
    "        response = urlopen(url).read()\n",
    "        newHash = hashlib.sha224(response).hexdigest()\n",
    "\n",
    "        if newHash == currentHash:\n",
    "            continue\n",
    "\n",
    "        else:\n",
    "\n",
    "            msg = EmailMessage()\n",
    "            msg.set_content(url)\n",
    "            msg['From'] = 'danacodetests@gmail.com'\n",
    "            msg['To'] = (## put email addresses here, I took mine and others' out for privacy.)\n",
    "            msg['Subject'] = 'NEW UPLOADS/CHANGES FOR SURFSIDE CONDO'\n",
    "            fromaddr = 'danacodetests@gmail.com'\n",
    "            toaddrs = [## put email addresses here, I took mine and others' out for privacy.]\n",
    "            server = smtplib.SMTP('smtp.gmail.com', 587)\n",
    "            server.starttls()\n",
    "            server = smtplib.SMTP_SSL('smtp.gmail.com', 465)\n",
    "            server.login('danacodetests@gmail.com', 'Dach42019!!')\n",
    "            server.send_message(msg)\n",
    "            server.quit()\n",
    "            response = urlopen(url).read()\n",
    "            currentHash = hashlib.sha224(response).hexdigest()\n",
    "            \n",
    "            \n",
    "            #testing out the automation\n",
    "\n",
    "            res = requests.get(url)\n",
    "            soup = bs4.BeautifulSoup(res.text,'lxml')\n",
    "\n",
    "\n",
    "            info_box= soup.find(class_='sfdownloadList sfListMode')\n",
    "            info_rows = info_box.find_all(\"a\")\n",
    "            documents_list = []\n",
    "\n",
    "            for row in info_rows:\n",
    "                print(row.prettify())\n",
    "                documents_list.append(row.prettify())\n",
    "\n",
    "            documents_list_series = pd.Series(documents_list)\n",
    "            documents_list_series.to_csv(f'documentslist_{datetime.datetime.now()}')\n",
    "            \n",
    "            \n",
    "            \n",
    "            \n",
    "            time.sleep(190)\n",
    "            continue\n",
    "\n",
    "    except Exception as e:\n",
    "\n",
    "        msg = EmailMessage()\n",
    "        msg.set_content(url)\n",
    "        msg['From'] = 'danacodetests@gmail.com'\n",
    "        msg['To'] = (## put email addresses here, I took mine and others' out for privacy.)\n",
    "        msg['Subject'] = 'DAR NETWORK FAILURE'\n",
    "        fromaddr = 'danacodetests@gmail.com'\n",
    "        toaddrs = [## put email addresses here, I took mine and others' out for privacy.]\n",
    "        server = smtplib.SMTP('smtp.gmail.com', 587)\n",
    "        server.starttls()\n",
    "        server = smtplib.SMTP_SSL('smtp.gmail.com', 465)\n",
    "        server.login('danacodetests@gmail.com', 'Dach42019!!')\n",
    "        server.send_message(msg)\n",
    "        server.quit()\n"
   ]
  },
  {
   "cell_type": "code",
   "execution_count": null,
   "metadata": {},
   "outputs": [],
   "source": []
  }
 ],
 "metadata": {
  "kernelspec": {
   "display_name": "Python 3",
   "language": "python",
   "name": "python3"
  },
  "language_info": {
   "codemirror_mode": {
    "name": "ipython",
    "version": 3
   },
   "file_extension": ".py",
   "mimetype": "text/x-python",
   "name": "python",
   "nbconvert_exporter": "python",
   "pygments_lexer": "ipython3",
   "version": "3.8.5"
  }
 },
 "nbformat": 4,
 "nbformat_minor": 4
}
